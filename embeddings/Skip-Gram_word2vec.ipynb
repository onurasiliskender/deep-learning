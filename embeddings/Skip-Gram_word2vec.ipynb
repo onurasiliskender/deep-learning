{
 "cells": [
  {
   "cell_type": "markdown",
   "metadata": {},
   "source": [
    "# Skip-gram word2vec\n",
    "\n",
    "In this notebook, I'll lead you through using TensorFlow to implement the word2vec algorithm using the skip-gram architecture. By implementing this, you'll learn about embedding words for use in natural language processing. This will come in handy when dealing with things like machine translation.\n",
    "\n",
    "## Readings\n",
    "\n",
    "Here are the resources I used to build this notebook. I suggest reading these either beforehand or while you're working on this material.\n",
    "\n",
    "* A really good [conceptual overview](http://mccormickml.com/2016/04/19/word2vec-tutorial-the-skip-gram-model/) of word2vec from Chris McCormick \n",
    "* [First word2vec paper](https://arxiv.org/pdf/1301.3781.pdf) from Mikolov et al.\n",
    "* [NIPS paper](http://papers.nips.cc/paper/5021-distributed-representations-of-words-and-phrases-and-their-compositionality.pdf) with improvements for word2vec also from Mikolov et al.\n",
    "* An [implementation of word2vec](http://www.thushv.com/natural_language_processing/word2vec-part-1-nlp-with-deep-learning-with-tensorflow-skip-gram/) from Thushan Ganegedara\n",
    "* TensorFlow [word2vec tutorial](https://www.tensorflow.org/tutorials/word2vec)\n",
    "\n",
    "## Word embeddings\n",
    "\n",
    "When you're dealing with words in text, you end up with tens of thousands of classes to predict, one for each word. Trying to one-hot encode these words is massively inefficient, you'll have one element set to 1 and the other 50,000 set to 0. The matrix multiplication going into the first hidden layer will have almost all of the resulting values be zero. This a huge waste of computation. \n",
    "\n",
    "![one-hot encodings](assets/one_hot_encoding.png)\n",
    "\n",
    "To solve this problem and greatly increase the efficiency of our networks, we use what are called embeddings. Embeddings are just a fully connected layer like you've seen before. We call this layer the embedding layer and the weights are embedding weights. We skip the multiplication into the embedding layer by instead directly grabbing the hidden layer values from the weight matrix. We can do this because the multiplication of a one-hot encoded vector with a matrix returns the row of the matrix corresponding the index of the \"on\" input unit.\n",
    "\n",
    "![lookup](assets/lookup_matrix.png)\n",
    "\n",
    "Instead of doing the matrix multiplication, we use the weight matrix as a lookup table. We encode the words as integers, for example \"heart\" is encoded as 958, \"mind\" as 18094. Then to get hidden layer values for \"heart\", you just take the 958th row of the embedding matrix. This process is called an **embedding lookup** and the number of hidden units is the **embedding dimension**.\n",
    "\n",
    "<img src='assets/tokenize_lookup.png' width=500>\n",
    " \n",
    "There is nothing magical going on here. The embedding lookup table is just a weight matrix. The embedding layer is just a hidden layer. The lookup is just a shortcut for the matrix multiplication. The lookup table is trained just like any weight matrix as well.\n",
    "\n",
    "Embeddings aren't only used for words of course. You can use them for any model where you have a massive number of classes. A particular type of model called **Word2Vec** uses the embedding layer to find vector representations of words that contain semantic meaning.\n",
    "\n"
   ]
  },
  {
   "cell_type": "markdown",
   "metadata": {},
   "source": [
    "## Word2Vec\n",
    "\n",
    "The word2vec algorithm finds much more efficient representations by finding vectors that represent the words. These vectors also contain semantic information about the words. Words that show up in similar contexts, such as \"black\", \"white\", and \"red\" will have vectors near each other. There are two architectures for implementing word2vec, CBOW (Continuous Bag-Of-Words) and Skip-gram.\n",
    "\n",
    "<img src=\"assets/word2vec_architectures.png\" width=\"500\">\n",
    "\n",
    "In this implementation, we'll be using the skip-gram architecture because it performs better than CBOW. Here, we pass in a word and try to predict the words surrounding it in the text. In this way, we can train the network to learn representations for words that show up in similar contexts.\n",
    "\n",
    "First up, importing packages."
   ]
  },
  {
   "cell_type": "code",
   "execution_count": 1,
   "metadata": {},
   "outputs": [],
   "source": [
    "import time\n",
    "\n",
    "import numpy as np\n",
    "import tensorflow as tf\n",
    "\n",
    "import utils"
   ]
  },
  {
   "cell_type": "markdown",
   "metadata": {},
   "source": [
    "Load the [text8 dataset](http://mattmahoney.net/dc/textdata.html), a file of cleaned up Wikipedia articles from Matt Mahoney. The next cell will download the data set to the `data` folder. Then you can extract it and delete the archive file to save storage space."
   ]
  },
  {
   "cell_type": "code",
   "execution_count": 2,
   "metadata": {},
   "outputs": [
    {
     "name": "stderr",
     "output_type": "stream",
     "text": [
      "Text8 Dataset: 31.4MB [01:05, 480kB/s]                             \n"
     ]
    }
   ],
   "source": [
    "from urllib.request import urlretrieve\n",
    "from os.path import isfile, isdir\n",
    "from tqdm import tqdm\n",
    "import zipfile\n",
    "\n",
    "dataset_folder_path = 'data'\n",
    "dataset_filename = 'text8.zip'\n",
    "dataset_name = 'Text8 Dataset'\n",
    "\n",
    "class DLProgress(tqdm):\n",
    "    last_block = 0\n",
    "\n",
    "    def hook(self, block_num=1, block_size=1, total_size=None):\n",
    "        self.total = total_size\n",
    "        self.update((block_num - self.last_block) * block_size)\n",
    "        self.last_block = block_num\n",
    "\n",
    "if not isfile(dataset_filename):\n",
    "    with DLProgress(unit='B', unit_scale=True, miniters=1, desc=dataset_name) as pbar:\n",
    "        urlretrieve(\n",
    "            'http://mattmahoney.net/dc/text8.zip',\n",
    "            dataset_filename,\n",
    "            pbar.hook)\n",
    "\n",
    "if not isdir(dataset_folder_path):\n",
    "    with zipfile.ZipFile(dataset_filename) as zip_ref:\n",
    "        zip_ref.extractall(dataset_folder_path)\n",
    "        \n",
    "with open('data/text8') as f:\n",
    "    text = f.read()"
   ]
  },
  {
   "cell_type": "markdown",
   "metadata": {},
   "source": [
    "## Preprocessing\n",
    "\n",
    "Here I'm fixing up the text to make training easier. This comes from the `utils` module I wrote. The `preprocess` function coverts any punctuation into tokens, so a period is changed to ` <PERIOD> `. In this data set, there aren't any periods, but it will help in other NLP problems. I'm also removing all words that show up five or fewer times in the dataset. This will greatly reduce issues due to noise in the data and improve the quality of the vector representations. If you want to write your own functions for this stuff, go for it."
   ]
  },
  {
   "cell_type": "code",
   "execution_count": 3,
   "metadata": {},
   "outputs": [
    {
     "name": "stdout",
     "output_type": "stream",
     "text": [
      "['anarchism', 'originated', 'as', 'a', 'term', 'of', 'abuse', 'first', 'used', 'against', 'early', 'working', 'class', 'radicals', 'including', 'the', 'diggers', 'of', 'the', 'english', 'revolution', 'and', 'the', 'sans', 'culottes', 'of', 'the', 'french', 'revolution', 'whilst']\n"
     ]
    }
   ],
   "source": [
    "words = utils.preprocess(text)\n",
    "print(words[:30])"
   ]
  },
  {
   "cell_type": "code",
   "execution_count": 4,
   "metadata": {},
   "outputs": [
    {
     "name": "stdout",
     "output_type": "stream",
     "text": [
      "Total words: 16680599\n",
      "Unique words: 63641\n"
     ]
    }
   ],
   "source": [
    "print(\"Total words: {}\".format(len(words)))\n",
    "print(\"Unique words: {}\".format(len(set(words))))"
   ]
  },
  {
   "cell_type": "markdown",
   "metadata": {},
   "source": [
    "And here I'm creating dictionaries to convert words to integers and backwards, integers to words. The integers are assigned in descending frequency order, so the most frequent word (\"the\") is given the integer 0 and the next most frequent is 1 and so on. The words are converted to integers and stored in the list `int_words`."
   ]
  },
  {
   "cell_type": "code",
   "execution_count": 5,
   "metadata": {},
   "outputs": [],
   "source": [
    "vocab_to_int, int_to_vocab = utils.create_lookup_tables(words)\n",
    "int_words = [vocab_to_int[word] for word in words]"
   ]
  },
  {
   "cell_type": "markdown",
   "metadata": {},
   "source": [
    "## Subsampling\n",
    "\n",
    "Words that show up often such as \"the\", \"of\", and \"for\" don't provide much context to the nearby words. If we discard some of them, we can remove some of the noise from our data and in return get faster training and better representations. This process is called subsampling by Mikolov. For each word $w_i$ in the training set, we'll discard it with probability given by \n",
    "\n",
    "$$ P(w_i) = 1 - \\sqrt{\\frac{t}{f(w_i)}} $$\n",
    "\n",
    "where $t$ is a threshold parameter and $f(w_i)$ is the frequency of word $w_i$ in the total dataset.\n",
    "\n",
    "I'm going to leave this up to you as an exercise. This is more of a programming challenge, than about deep learning specifically. But, being able to prepare your data for your network is an important skill to have. Check out my solution to see how I did it.\n",
    "\n",
    "> **Exercise:** Implement subsampling for the words in `int_words`. That is, go through `int_words` and discard each word given the probablility $P(w_i)$ shown above. Note that $P(w_i)$ is the probability that a word is discarded. Assign the subsampled data to `train_words`."
   ]
  },
  {
   "cell_type": "code",
   "execution_count": 8,
   "metadata": {},
   "outputs": [],
   "source": [
    "from collections import Counter\n",
    "import random\n",
    "\n",
    "threshold = 1e-5\n",
    "word_counts = Counter(int_words)\n",
    "total_count = len(int_words)\n",
    "freqs = {word: count/total_count for word, count in word_counts.items()}\n",
    "p_drop = {word: 1 - np.sqrt(threshold/freqs[word]) for word in word_counts}\n",
    "train_words = [word for word in int_words if random.random() < (1 - p_drop[word])]"
   ]
  },
  {
   "cell_type": "markdown",
   "metadata": {},
   "source": [
    "## Making batches"
   ]
  },
  {
   "cell_type": "markdown",
   "metadata": {},
   "source": [
    "Now that our data is in good shape, we need to get it into the proper form to pass it into our network. With the skip-gram architecture, for each word in the text, we want to grab all the words in a window around that word, with size $C$. \n",
    "\n",
    "From [Mikolov et al.](https://arxiv.org/pdf/1301.3781.pdf): \n",
    "\n",
    "\"Since the more distant words are usually less related to the current word than those close to it, we give less weight to the distant words by sampling less from those words in our training examples... If we choose $C = 5$, for each training word we will select randomly a number $R$ in range $< 1; C >$, and then use $R$ words from history and $R$ words from the future of the current word as correct labels.\"\n",
    "\n",
    "> **Exercise:** Implement a function `get_target` that receives a list of words, an index, and a window size, then returns a list of words in the window around the index. Make sure to use the algorithm described above, where you choose a random number of words from the window."
   ]
  },
  {
   "cell_type": "code",
   "execution_count": 9,
   "metadata": {},
   "outputs": [],
   "source": [
    "def get_target(words, idx, window_size=5):\n",
    "    ''' Get a list of words in a window around an index. '''\n",
    "    \n",
    "    R = np.random.randint(1, window_size+1)\n",
    "    start = idx - R if (idx - R) > 0 else 0\n",
    "    stop = idx + R\n",
    "    target_words = set(words[start:idx] + words[idx+1:stop+1])\n",
    "    \n",
    "    return list(target_words)"
   ]
  },
  {
   "cell_type": "markdown",
   "metadata": {},
   "source": [
    "Here's a function that returns batches for our network. The idea is that it grabs `batch_size` words from a words list. Then for each of those words, it gets the target words in the window. I haven't found a way to pass in a random number of target words and get it to work with the architecture, so I make one row per input-target pair. This is a generator function by the way, helps save memory."
   ]
  },
  {
   "cell_type": "code",
   "execution_count": 10,
   "metadata": {},
   "outputs": [],
   "source": [
    "def get_batches(words, batch_size, window_size=5):\n",
    "    ''' Create a generator of word batches as a tuple (inputs, targets) '''\n",
    "    \n",
    "    n_batches = len(words)//batch_size\n",
    "    \n",
    "    # only full batches\n",
    "    words = words[:n_batches*batch_size]\n",
    "    \n",
    "    for idx in range(0, len(words), batch_size):\n",
    "        x, y = [], []\n",
    "        batch = words[idx:idx+batch_size]\n",
    "        for ii in range(len(batch)):\n",
    "            batch_x = batch[ii]\n",
    "            batch_y = get_target(batch, ii, window_size)\n",
    "            y.extend(batch_y)\n",
    "            x.extend([batch_x]*len(batch_y))\n",
    "        yield x, y\n",
    "    "
   ]
  },
  {
   "cell_type": "markdown",
   "metadata": {},
   "source": [
    "## Building the graph\n",
    "\n",
    "From [Chris McCormick's blog](http://mccormickml.com/2016/04/19/word2vec-tutorial-the-skip-gram-model/), we can see the general structure of our network.\n",
    "![embedding_network](./assets/skip_gram_net_arch.png)\n",
    "\n",
    "The input words are passed in as integers. This will go into a hidden layer of linear units, then into a softmax layer. We'll use the softmax layer to make a prediction like normal.\n",
    "\n",
    "The idea here is to train the hidden layer weight matrix to find efficient representations for our words. We can discard the softmax layer becuase we don't really care about making predictions with this network. We just want the embedding matrix so we can use it in other networks we build from the dataset.\n",
    "\n",
    "I'm going to have you build the graph in stages now. First off, creating the `inputs` and `labels` placeholders like normal.\n",
    "\n",
    "> **Exercise:** Assign `inputs` and `labels` using `tf.placeholder`. We're going to be passing in integers, so set the data types to `tf.int32`. The batches we're passing in will have varying sizes, so set the batch sizes to [`None`]. To make things work later, you'll need to set the second dimension of `labels` to `None` or `1`."
   ]
  },
  {
   "cell_type": "code",
   "execution_count": 11,
   "metadata": {},
   "outputs": [],
   "source": [
    "train_graph = tf.Graph()\n",
    "with train_graph.as_default():\n",
    "    inputs = tf.placeholder(tf.int32, [None], name='inputs')\n",
    "    labels = tf.placeholder(tf.int32, [None, None], name='labels')"
   ]
  },
  {
   "cell_type": "markdown",
   "metadata": {},
   "source": [
    "## Embedding\n",
    "\n"
   ]
  },
  {
   "cell_type": "markdown",
   "metadata": {
    "collapsed": true
   },
   "source": [
    "The embedding matrix has a size of the number of words by the number of units in the hidden layer. So, if you have 10,000 words and 300 hidden units, the matrix will have size $10,000 \\times 300$. Remember that we're using tokenized data for our inputs, usually as integers, where the number of tokens is the number of words in our vocabulary.\n",
    "\n",
    "\n",
    "> **Exercise:** Tensorflow provides a convenient function [`tf.nn.embedding_lookup`](https://www.tensorflow.org/api_docs/python/tf/nn/embedding_lookup) that does this lookup for us. You pass in the embedding matrix and a tensor of integers, then it returns rows in the matrix corresponding to those integers. Below, set the number of embedding features you'll use (200 is a good start), create the embedding matrix variable, and use `tf.nn.embedding_lookup` to get the embedding tensors. For the embedding matrix, I suggest you initialize it with a uniform random numbers between -1 and 1 using [tf.random_uniform](https://www.tensorflow.org/api_docs/python/tf/random_uniform)."
   ]
  },
  {
   "cell_type": "code",
   "execution_count": 13,
   "metadata": {},
   "outputs": [],
   "source": [
    "n_vocab = len(int_to_vocab)\n",
    "n_embedding = 200 # Number of embedding features \n",
    "with train_graph.as_default():\n",
    "    embedding = tf.Variable(tf.random_uniform((n_vocab, n_embedding), -1, 1))\n",
    "    embed = tf.nn.embedding_lookup(embedding, inputs)"
   ]
  },
  {
   "cell_type": "markdown",
   "metadata": {},
   "source": [
    "## Negative sampling\n",
    "\n"
   ]
  },
  {
   "cell_type": "markdown",
   "metadata": {},
   "source": [
    "For every example we give the network, we train it using the output from the softmax layer. That means for each input, we're making very small changes to millions of weights even though we only have one true example. This makes training the network very inefficient. We can approximate the loss from the softmax layer by only updating a small subset of all the weights at once. We'll update the weights for the correct label, but only a small number of incorrect labels. This is called [\"negative sampling\"](http://papers.nips.cc/paper/5021-distributed-representations-of-words-and-phrases-and-their-compositionality.pdf). Tensorflow has a convenient function to do this, [`tf.nn.sampled_softmax_loss`](https://www.tensorflow.org/api_docs/python/tf/nn/sampled_softmax_loss).\n",
    "\n",
    "> **Exercise:** Below, create weights and biases for the softmax layer. Then, use [`tf.nn.sampled_softmax_loss`](https://www.tensorflow.org/api_docs/python/tf/nn/sampled_softmax_loss) to calculate the loss. Be sure to read the documentation to figure out how it works."
   ]
  },
  {
   "cell_type": "code",
   "execution_count": 14,
   "metadata": {},
   "outputs": [],
   "source": [
    "# Number of negative labels to sample\n",
    "n_sampled = 100\n",
    "with train_graph.as_default():\n",
    "    softmax_w = tf.Variable(tf.truncated_normal((n_vocab, n_embedding), stddev=0.1))\n",
    "    softmax_b = tf.Variable(tf.zeros(n_vocab))\n",
    "    \n",
    "    # Calculate the loss using negative sampling\n",
    "    loss = tf.nn.sampled_softmax_loss(softmax_w, softmax_b, \n",
    "                                      labels, embed,\n",
    "                                      n_sampled, n_vocab)\n",
    "    \n",
    "    cost = tf.reduce_mean(loss)\n",
    "    optimizer = tf.train.AdamOptimizer().minimize(cost)"
   ]
  },
  {
   "cell_type": "markdown",
   "metadata": {},
   "source": [
    "## Validation\n",
    "\n",
    "This code is from Thushan Ganegedara's implementation. Here we're going to choose a few common words and few uncommon words. Then, we'll print out the closest words to them. It's a nice way to check that our embedding table is grouping together words with similar semantic meanings."
   ]
  },
  {
   "cell_type": "code",
   "execution_count": 15,
   "metadata": {},
   "outputs": [
    {
     "name": "stderr",
     "output_type": "stream",
     "text": [
      "WARNING: Logging before flag parsing goes to stderr.\n",
      "W0904 20:34:48.766599 4511700416 deprecation.py:506] From <ipython-input-15-2aa168c49a56>:13: calling reduce_sum_v1 (from tensorflow.python.ops.math_ops) with keep_dims is deprecated and will be removed in a future version.\n",
      "Instructions for updating:\n",
      "keep_dims is deprecated, use keepdims instead\n"
     ]
    }
   ],
   "source": [
    "with train_graph.as_default():\n",
    "    ## From Thushan Ganegedara's implementation\n",
    "    valid_size = 16 # Random set of words to evaluate similarity on.\n",
    "    valid_window = 100\n",
    "    # pick 8 samples from (0,100) and (1000,1100) each ranges. lower id implies more frequent \n",
    "    valid_examples = np.array(random.sample(range(valid_window), valid_size//2))\n",
    "    valid_examples = np.append(valid_examples, \n",
    "                               random.sample(range(1000,1000+valid_window), valid_size//2))\n",
    "\n",
    "    valid_dataset = tf.constant(valid_examples, dtype=tf.int32)\n",
    "    \n",
    "    # We use the cosine distance:\n",
    "    norm = tf.sqrt(tf.reduce_sum(tf.square(embedding), 1, keep_dims=True))\n",
    "    normalized_embedding = embedding / norm\n",
    "    valid_embedding = tf.nn.embedding_lookup(normalized_embedding, valid_dataset)\n",
    "    similarity = tf.matmul(valid_embedding, tf.transpose(normalized_embedding))"
   ]
  },
  {
   "cell_type": "code",
   "execution_count": 16,
   "metadata": {},
   "outputs": [],
   "source": [
    "# If the checkpoints directory doesn't exist:\n",
    "!mkdir checkpoints"
   ]
  },
  {
   "cell_type": "markdown",
   "metadata": {},
   "source": [
    "## Training\n",
    "\n",
    "Below is the code to train the network. Every 100 batches it reports the training loss. Every 1000 batches, it'll print out the validation words."
   ]
  },
  {
   "cell_type": "code",
   "execution_count": 17,
   "metadata": {},
   "outputs": [
    {
     "name": "stdout",
     "output_type": "stream",
     "text": [
      "Epoch 1/10 Iteration: 100 Avg. Training loss: 5.6664 0.1991 sec/batch\n",
      "Epoch 1/10 Iteration: 200 Avg. Training loss: 5.6047 0.1862 sec/batch\n",
      "Epoch 1/10 Iteration: 300 Avg. Training loss: 5.5115 0.2002 sec/batch\n",
      "Epoch 1/10 Iteration: 400 Avg. Training loss: 5.5716 0.1793 sec/batch\n",
      "Epoch 1/10 Iteration: 500 Avg. Training loss: 5.5193 0.1791 sec/batch\n",
      "Epoch 1/10 Iteration: 600 Avg. Training loss: 5.5562 0.1820 sec/batch\n",
      "Epoch 1/10 Iteration: 700 Avg. Training loss: 5.5666 0.2226 sec/batch\n",
      "Epoch 1/10 Iteration: 800 Avg. Training loss: 5.5552 0.2100 sec/batch\n",
      "Epoch 1/10 Iteration: 900 Avg. Training loss: 5.5035 0.1907 sec/batch\n",
      "Epoch 1/10 Iteration: 1000 Avg. Training loss: 5.4160 0.2004 sec/batch\n",
      "Nearest to other: prevented, melting, churchman, fights, hand, harmonica, dumplings, yugoslavia,\n",
      "Nearest to with: dennis, goebel, jah, cleveland, nick, cardamom, imhotep, utters,\n",
      "Nearest to known: phan, blowfish, stuka, laborer, dixon, szeged, wallenstein, aguilar,\n",
      "Nearest to history: gerald, acetylene, citadels, thrones, royalist, antisemitic, carmilla, tin,\n",
      "Nearest to its: company, somalis, oxidise, ask, alberoni, perspiration, cinematographers, tunguska,\n",
      "Nearest to from: verifiability, paperback, biomechanics, ff, discontented, unexplainable, psychiatric, mansfeld,\n",
      "Nearest to these: syncretism, cedes, sickness, romanov, redmond, ikea, descriptors, divided,\n",
      "Nearest to time: dwarfs, scripting, pequod, tyramine, aggressively, originating, dipped, aspiring,\n",
      "Nearest to additional: front, juliette, hermannus, melancholy, unrepentant, klaviertrio, ranks, sumerians,\n",
      "Nearest to orthodox: bn, mass, sandhurst, leaps, fecture, automates, fe, gee,\n",
      "Nearest to troops: asamiya, speculated, plekhanov, armies, carcasses, bbl, schema, rebuilt,\n",
      "Nearest to something: acknowledged, raises, dogmatism, jellyfish, decided, enterprising, wahoo, pickering,\n",
      "Nearest to mean: unser, tries, rancher, resistances, amoeboid, laudatory, other, lok,\n",
      "Nearest to grand: collide, straddles, boyle, variously, hurling, tls, forall, cessation,\n",
      "Nearest to know: disintegrates, loud, vara, connell, vincenzo, shakespeare, haman, reviews,\n",
      "Nearest to egypt: naples, numerator, investigation, talkative, subnet, koh, directing, smiling,\n",
      "Epoch 1/10 Iteration: 1100 Avg. Training loss: 5.5015 0.1839 sec/batch\n",
      "Epoch 1/10 Iteration: 1200 Avg. Training loss: 5.3812 0.1818 sec/batch\n",
      "Epoch 1/10 Iteration: 1300 Avg. Training loss: 5.3385 0.1814 sec/batch\n",
      "Epoch 1/10 Iteration: 1400 Avg. Training loss: 5.2211 0.1892 sec/batch\n",
      "Epoch 1/10 Iteration: 1500 Avg. Training loss: 5.1628 0.1786 sec/batch\n",
      "Epoch 1/10 Iteration: 1600 Avg. Training loss: 5.1378 0.1881 sec/batch\n",
      "Epoch 1/10 Iteration: 1700 Avg. Training loss: 5.0777 0.1807 sec/batch\n",
      "Epoch 1/10 Iteration: 1800 Avg. Training loss: 5.0550 0.1889 sec/batch\n",
      "Epoch 1/10 Iteration: 1900 Avg. Training loss: 4.9919 0.1886 sec/batch\n",
      "Epoch 1/10 Iteration: 2000 Avg. Training loss: 4.9821 0.1805 sec/batch\n",
      "Nearest to other: hand, mean, describe, melting, prevented, philosophers, sib, internationally,\n",
      "Nearest to with: dennis, replacement, cleveland, make, nick, help, imhotep, departments,\n",
      "Nearest to known: phan, blowfish, passages, management, dixon, optimism, stuka, szeged,\n",
      "Nearest to history: gerald, thrones, citadels, royalist, losses, tin, oct, miracle,\n",
      "Nearest to its: have, company, proceeds, similarly, poor, ask, cinematographers, happening,\n",
      "Nearest to from: paperback, verifiability, psychiatric, dogma, unexplainable, quote, ff, break,\n",
      "Nearest to these: divided, sickness, syncretism, reading, races, cedes, ikea, sane,\n",
      "Nearest to time: dwarfs, scripting, aggressively, originating, dipped, possible, nemesis, pequod,\n",
      "Nearest to additional: front, horizon, juliette, ranks, ostia, melancholy, photonics, mvd,\n",
      "Nearest to orthodox: mass, bn, fecture, leaps, santa, velar, fetal, bootlegging,\n",
      "Nearest to troops: speculated, rebuilt, semantic, flat, armies, striking, spend, asamiya,\n",
      "Nearest to something: acknowledged, decided, raises, dogmatism, jellyfish, secondary, enterprising, real,\n",
      "Nearest to mean: other, tries, fact, unser, resistances, suitable, researchers, carrying,\n",
      "Nearest to grand: straddles, collide, boyle, variously, tls, hurling, relate, cessation,\n",
      "Nearest to know: disintegrates, loud, n, vara, reviews, shakespeare, connell, quadratic,\n",
      "Nearest to egypt: investigation, naples, sometimes, player, care, nearly, directing, numerator,\n",
      "Epoch 1/10 Iteration: 2100 Avg. Training loss: 4.9268 0.1800 sec/batch\n",
      "Epoch 1/10 Iteration: 2200 Avg. Training loss: 4.8948 0.1855 sec/batch\n",
      "Epoch 1/10 Iteration: 2300 Avg. Training loss: 4.8832 0.1877 sec/batch\n",
      "Epoch 1/10 Iteration: 2400 Avg. Training loss: 4.8616 0.1812 sec/batch\n",
      "Epoch 1/10 Iteration: 2500 Avg. Training loss: 4.7944 0.1791 sec/batch\n",
      "Epoch 1/10 Iteration: 2600 Avg. Training loss: 4.8224 0.1789 sec/batch\n",
      "Epoch 1/10 Iteration: 2700 Avg. Training loss: 4.7896 0.1806 sec/batch\n",
      "Epoch 1/10 Iteration: 2800 Avg. Training loss: 4.7889 0.1824 sec/batch\n",
      "Epoch 1/10 Iteration: 2900 Avg. Training loss: 4.7939 0.1810 sec/batch\n",
      "Epoch 1/10 Iteration: 3000 Avg. Training loss: 4.7632 0.1799 sec/batch\n",
      "Nearest to other: hand, describe, fights, mean, prevented, philosophers, churchman, sib,\n",
      "Nearest to with: replacement, dennis, cleveland, liberties, sine, reformers, jah, goebel,\n",
      "Nearest to known: phan, optimism, blowfish, passages, zealand, priority, stuka, unhappy,\n",
      "Nearest to history: gerald, royalist, thrones, miracle, oct, citadels, tin, losses,\n",
      "Nearest to its: have, owed, poor, company, similarly, reflective, proceeds, communists,\n",
      "Nearest to from: paperback, coastal, verifiability, unexplainable, discontented, psychiatric, biomechanics, administer,\n",
      "Nearest to these: sickness, syncretism, divided, minimum, romanov, ikea, cedes, abolish,\n",
      "Nearest to time: dwarfs, originating, scripting, aggressively, creators, nemesis, dipped, pequod,\n",
      "Nearest to additional: front, horizon, ranks, juliette, melancholy, mvd, consumers, ostia,\n",
      "Nearest to orthodox: bn, mass, church, santa, leaps, clubs, trainee, fecture,\n",
      "Nearest to troops: speculated, rebuilt, armies, semantic, striking, flat, plekhanov, widespread,\n",
      "Nearest to something: acknowledged, raises, decided, dogmatism, enterprising, jellyfish, monuments, pickering,\n",
      "Nearest to mean: tries, unser, other, resistances, suitable, syndicates, inauguration, fact,\n",
      "Nearest to grand: boyle, straddles, collide, variously, relate, cessation, tls, execute,\n",
      "Nearest to know: disintegrates, vara, loud, quadratic, shakespeare, n, reviews, barrett,\n",
      "Nearest to egypt: investigation, sometimes, naples, nearly, care, player, maastricht, omniscient,\n",
      "Epoch 1/10 Iteration: 3100 Avg. Training loss: 4.7885 0.1820 sec/batch\n",
      "Epoch 1/10 Iteration: 3200 Avg. Training loss: 4.7538 0.1816 sec/batch\n",
      "Epoch 1/10 Iteration: 3300 Avg. Training loss: 4.7011 0.1797 sec/batch\n",
      "Epoch 1/10 Iteration: 3400 Avg. Training loss: 4.7068 0.1799 sec/batch\n",
      "Epoch 1/10 Iteration: 3500 Avg. Training loss: 4.7548 0.1822 sec/batch\n",
      "Epoch 1/10 Iteration: 3600 Avg. Training loss: 4.7174 0.1803 sec/batch\n",
      "Epoch 1/10 Iteration: 3700 Avg. Training loss: 4.7181 0.1805 sec/batch\n",
      "Epoch 1/10 Iteration: 3800 Avg. Training loss: 4.7445 0.1799 sec/batch\n",
      "Epoch 1/10 Iteration: 3900 Avg. Training loss: 4.6885 0.1802 sec/batch\n",
      "Epoch 1/10 Iteration: 4000 Avg. Training loss: 4.6593 0.1801 sec/batch\n",
      "Nearest to other: hand, describe, mean, harmonica, churchman, fights, conway, prevented,\n",
      "Nearest to with: replacement, reformers, dennis, cleveland, sine, nick, jah, liberties,\n",
      "Nearest to known: phan, optimism, stuka, blowfish, zealand, dixon, passages, szeged,\n",
      "Nearest to history: royalist, gerald, thrones, oct, miracle, citadels, nitz, improvisational,\n",
      "Nearest to its: communists, poor, company, have, reflective, owed, similarly, reactor,\n",
      "Nearest to from: unexplainable, coastal, paperback, biomechanics, staircase, psychiatric, verifiability, cyclical,\n",
      "Nearest to these: ikea, romanov, syncretism, minimum, sickness, cedes, divided, yin,\n",
      "Nearest to time: dwarfs, scripting, originating, nemesis, aggressively, creators, boarded, lender,\n",
      "Nearest to additional: front, ranks, horizon, melancholy, juliette, consumers, mvd, ostia,\n",
      "Nearest to orthodox: bn, church, mass, leaps, santa, rallied, trainee, bootlegging,\n",
      "Nearest to troops: rebuilt, armies, speculated, plekhanov, dublin, brazil, hartman, zogu,\n",
      "Nearest to something: enterprising, dogmatism, acknowledged, raises, decided, monuments, pickering, jellyfish,\n",
      "Nearest to mean: tries, resistances, other, suitable, inauguration, syndicates, quenya, lok,\n",
      "Nearest to grand: boyle, straddles, collide, variously, nara, cessation, portrayal, execute,\n",
      "Nearest to know: disintegrates, vara, reviews, shakespeare, barrett, quadratic, loud, compactification,\n",
      "Nearest to egypt: investigation, naples, nearly, koh, foreigner, care, numerator, omniscient,\n"
     ]
    },
    {
     "name": "stdout",
     "output_type": "stream",
     "text": [
      "Epoch 1/10 Iteration: 4100 Avg. Training loss: 4.6771 0.1821 sec/batch\n",
      "Epoch 1/10 Iteration: 4200 Avg. Training loss: 4.6442 0.1812 sec/batch\n",
      "Epoch 1/10 Iteration: 4300 Avg. Training loss: 4.6017 0.1820 sec/batch\n",
      "Epoch 1/10 Iteration: 4400 Avg. Training loss: 4.6217 0.1809 sec/batch\n",
      "Epoch 1/10 Iteration: 4500 Avg. Training loss: 4.6288 0.1814 sec/batch\n",
      "Epoch 1/10 Iteration: 4600 Avg. Training loss: 4.6006 0.1964 sec/batch\n",
      "Epoch 2/10 Iteration: 4700 Avg. Training loss: 4.5932 0.1403 sec/batch\n",
      "Epoch 2/10 Iteration: 4800 Avg. Training loss: 4.5360 0.1776 sec/batch\n",
      "Epoch 2/10 Iteration: 4900 Avg. Training loss: 4.5007 0.1785 sec/batch\n",
      "Epoch 2/10 Iteration: 5000 Avg. Training loss: 4.5167 0.1783 sec/batch\n",
      "Nearest to other: describe, mean, hand, melting, harmonica, acid, gyroscope, fights,\n",
      "Nearest to with: replacement, reformers, jah, shots, sine, conveyor, condominium, curved,\n",
      "Nearest to known: phan, stuka, optimism, blowfish, jive, passages, threefold, zealand,\n",
      "Nearest to history: royalist, gerald, thrones, citadels, oct, antisemitic, roscoe, sandman,\n",
      "Nearest to its: owed, tunguska, reflective, communists, reactor, frescoes, soar, similarly,\n",
      "Nearest to from: coastal, unexplainable, mansfeld, biomechanics, staircase, paperback, psychiatric, discontented,\n",
      "Nearest to these: ikea, romanov, minimum, syncretism, yin, aikido, sickness, torus,\n",
      "Nearest to time: dwarfs, aggressively, scripting, originating, pequod, nemesis, lender, dipped,\n",
      "Nearest to additional: front, melancholy, horizon, consumers, mvd, ranks, higher, juliette,\n",
      "Nearest to orthodox: church, bn, santa, bootlegging, trainee, rallied, humanists, colorado,\n",
      "Nearest to troops: rebuilt, armies, speculated, plekhanov, war, withdrawal, dublin, hartman,\n",
      "Nearest to something: enterprising, raises, decided, pickering, dogmatism, acknowledged, sockets, mourning,\n",
      "Nearest to mean: tries, other, suitable, quenya, resistances, gravity, syndicates, grating,\n",
      "Nearest to grand: boyle, straddles, nara, collide, nicobar, chevy, variously, portrayal,\n",
      "Nearest to know: disintegrates, vara, compactification, quadratic, barrett, reviews, elusive, haman,\n",
      "Nearest to egypt: investigation, koh, inseparable, sometimes, subcultural, naples, nearly, numerator,\n",
      "Epoch 2/10 Iteration: 5100 Avg. Training loss: 4.5044 0.1816 sec/batch\n",
      "Epoch 2/10 Iteration: 5200 Avg. Training loss: 4.4666 0.1804 sec/batch\n",
      "Epoch 2/10 Iteration: 5300 Avg. Training loss: 4.4663 0.1799 sec/batch\n",
      "Epoch 2/10 Iteration: 5400 Avg. Training loss: 4.5004 0.1796 sec/batch\n",
      "Epoch 2/10 Iteration: 5500 Avg. Training loss: 4.4790 0.1801 sec/batch\n",
      "Epoch 2/10 Iteration: 5600 Avg. Training loss: 4.4819 0.1896 sec/batch\n",
      "Epoch 2/10 Iteration: 5700 Avg. Training loss: 4.4829 0.1822 sec/batch\n",
      "Epoch 2/10 Iteration: 5800 Avg. Training loss: 4.4172 0.1845 sec/batch\n",
      "Epoch 2/10 Iteration: 5900 Avg. Training loss: 4.4359 0.1804 sec/batch\n",
      "Epoch 2/10 Iteration: 6000 Avg. Training loss: 4.4152 0.1814 sec/batch\n",
      "Nearest to other: describe, mean, hand, prevented, acid, harmonica, craving, fights,\n",
      "Nearest to with: replacement, reformers, shots, jah, quantify, bismuth, conveyor, rigour,\n",
      "Nearest to known: phan, stuka, optimism, blowfish, zealand, passages, jive, interlacing,\n",
      "Nearest to history: royalist, thrones, gerald, roscoe, sandman, inhabitants, noah, interacted,\n",
      "Nearest to its: communists, soar, transitioning, owed, tunguska, reactor, entrenched, frescoes,\n",
      "Nearest to from: coastal, unexplainable, bub, mansfeld, staircase, biomechanics, cleft, cyclical,\n",
      "Nearest to these: ikea, minimum, romanov, syncretism, divided, aikido, yin, torus,\n",
      "Nearest to time: dwarfs, scripting, aggressively, originating, dipped, pequod, rup, tyramine,\n",
      "Nearest to additional: melancholy, front, horizon, consumers, ranks, higher, mvd, luggage,\n",
      "Nearest to orthodox: church, bn, bootlegging, brethren, humanists, acceded, thighs, santa,\n",
      "Nearest to troops: armies, rebuilt, war, plekhanov, brazil, withdrawal, speculated, invaded,\n",
      "Nearest to something: enterprising, raises, decided, dogmatism, pickering, acknowledged, anachronisms, sockets,\n",
      "Nearest to mean: other, quenya, grating, suitable, scented, resistances, tries, gravity,\n",
      "Nearest to grand: nara, boyle, straddles, chevy, portrayal, collide, hurling, nicobar,\n",
      "Nearest to know: disintegrates, compactification, vara, quadratic, reviews, barrett, haman, loud,\n",
      "Nearest to egypt: investigation, inseparable, subcultural, koh, naples, doubts, numerator, asr,\n",
      "Epoch 2/10 Iteration: 6100 Avg. Training loss: 4.4079 0.1807 sec/batch\n",
      "Epoch 2/10 Iteration: 6200 Avg. Training loss: 4.4280 0.1806 sec/batch\n",
      "Epoch 2/10 Iteration: 6300 Avg. Training loss: 4.4163 0.1807 sec/batch\n",
      "Epoch 2/10 Iteration: 6400 Avg. Training loss: 4.4201 0.1807 sec/batch\n",
      "Epoch 2/10 Iteration: 6500 Avg. Training loss: 4.4343 0.1813 sec/batch\n",
      "Epoch 2/10 Iteration: 6600 Avg. Training loss: 4.4667 0.1799 sec/batch\n",
      "Epoch 2/10 Iteration: 6700 Avg. Training loss: 4.3955 0.1799 sec/batch\n",
      "Epoch 2/10 Iteration: 6800 Avg. Training loss: 4.3906 0.1810 sec/batch\n",
      "Epoch 2/10 Iteration: 6900 Avg. Training loss: 4.4210 0.1814 sec/batch\n",
      "Epoch 2/10 Iteration: 7000 Avg. Training loss: 4.3785 0.1804 sec/batch\n",
      "Nearest to other: describe, mean, prevented, landsmannschaft, craving, catalyzes, harmonica, hand,\n",
      "Nearest to with: replacement, gradus, reformers, shots, bismuth, conveyor, jah, tropic,\n",
      "Nearest to known: phan, stuka, passages, optimism, jive, interlacing, blowfish, transliterations,\n",
      "Nearest to history: royalist, sandman, thrones, external, carmilla, gerald, citadels, oct,\n",
      "Nearest to its: transitioning, soar, communists, tunguska, owed, incinerated, entrenched, reactor,\n",
      "Nearest to from: coastal, biomechanics, unexplainable, bub, mansfeld, staircase, cleft, cyclical,\n",
      "Nearest to these: syncretism, ikea, aikido, romanov, yin, minimum, divided, sickness,\n",
      "Nearest to time: dwarfs, scripting, aggressively, pequod, compatibles, dipped, tyramine, originating,\n",
      "Nearest to additional: front, horizon, melancholy, ranks, consumers, higher, quick, mvd,\n",
      "Nearest to orthodox: church, apostolic, brethren, bn, orthodoxy, protestant, religion, humanists,\n",
      "Nearest to troops: armies, rebuilt, war, withdrawal, plekhanov, invaded, brazil, tunisia,\n",
      "Nearest to something: enterprising, dogmatism, raises, anachronisms, acknowledged, pickering, decided, edie,\n",
      "Nearest to mean: grating, other, quenya, resistances, scented, suitable, fact, unser,\n",
      "Nearest to grand: straddles, boyle, nara, chevy, hurling, portrayal, servings, collide,\n",
      "Nearest to know: disintegrates, compactification, quadratic, vara, reviews, barrett, anybody, loud,\n",
      "Nearest to egypt: investigation, subcultural, koh, naples, inseparable, doubts, ethnic, maastricht,\n",
      "Epoch 2/10 Iteration: 7100 Avg. Training loss: 4.3641 0.1809 sec/batch\n",
      "Epoch 2/10 Iteration: 7200 Avg. Training loss: 4.3952 0.1837 sec/batch\n",
      "Epoch 2/10 Iteration: 7300 Avg. Training loss: 4.3414 0.1808 sec/batch\n",
      "Epoch 2/10 Iteration: 7400 Avg. Training loss: 4.3550 0.1791 sec/batch\n",
      "Epoch 2/10 Iteration: 7500 Avg. Training loss: 4.4045 0.1808 sec/batch\n",
      "Epoch 2/10 Iteration: 7600 Avg. Training loss: 4.3790 0.1817 sec/batch\n",
      "Epoch 2/10 Iteration: 7700 Avg. Training loss: 4.3741 0.1798 sec/batch\n",
      "Epoch 2/10 Iteration: 7800 Avg. Training loss: 4.3816 0.1813 sec/batch\n",
      "Epoch 2/10 Iteration: 7900 Avg. Training loss: 4.3271 0.1795 sec/batch\n",
      "Epoch 2/10 Iteration: 8000 Avg. Training loss: 4.3342 0.1797 sec/batch\n",
      "Nearest to other: mean, describe, prevented, landsmannschaft, craving, loudly, harmonica, sittings,\n",
      "Nearest to with: replacement, gradus, rigour, jah, blu, bismuth, condominium, reformers,\n",
      "Nearest to known: phan, stuka, jonestown, blowfish, passages, optimism, zealand, transliterations,\n",
      "Nearest to history: inhabitants, sandman, royalist, pye, thrones, carmilla, external, roscoe,\n",
      "Nearest to its: transitioning, communists, owed, reactor, entrenched, relations, incinerated, soar,\n",
      "Nearest to from: coastal, unexplainable, biomechanics, mansfeld, bub, castaways, frontage, serbian,\n",
      "Nearest to these: syncretism, aikido, yin, romanov, divided, minimum, hbox, sickness,\n",
      "Nearest to time: dwarfs, aggressively, scripting, originating, nemesis, pequod, rup, compatibles,\n",
      "Nearest to additional: horizon, front, ranks, mvd, luggage, melancholy, quick, higher,\n",
      "Nearest to orthodox: church, apostolic, brethren, orthodoxy, bn, humanists, thighs, catholic,\n",
      "Nearest to troops: armies, rebuilt, war, withdrawal, invaded, plekhanov, brazil, defeated,\n",
      "Nearest to something: enterprising, dogmatism, acknowledged, raises, anachronisms, edie, decided, pickering,\n",
      "Nearest to mean: other, grating, quenya, resistances, scented, multiplying, suitable, inmate,\n",
      "Nearest to grand: straddles, chevy, boyle, nara, portrayal, hurling, oldham, durant,\n",
      "Nearest to know: disintegrates, compactification, reviews, quadratic, vara, anybody, quartic, haman,\n",
      "Nearest to egypt: subcultural, investigation, koh, doubts, inseparable, conquered, rwanda, hostilities,\n"
     ]
    },
    {
     "name": "stdout",
     "output_type": "stream",
     "text": [
      "Epoch 2/10 Iteration: 8100 Avg. Training loss: 4.3673 0.1957 sec/batch\n",
      "Epoch 2/10 Iteration: 8200 Avg. Training loss: 4.2842 0.2010 sec/batch\n",
      "Epoch 2/10 Iteration: 8300 Avg. Training loss: 4.4020 0.1819 sec/batch\n",
      "Epoch 2/10 Iteration: 8400 Avg. Training loss: 4.3740 0.1805 sec/batch\n",
      "Epoch 2/10 Iteration: 8500 Avg. Training loss: 4.3730 0.1963 sec/batch\n",
      "Epoch 2/10 Iteration: 8600 Avg. Training loss: 4.2838 0.1805 sec/batch\n",
      "Epoch 2/10 Iteration: 8700 Avg. Training loss: 4.3000 0.1822 sec/batch\n",
      "Epoch 2/10 Iteration: 8800 Avg. Training loss: 4.3465 0.1821 sec/batch\n",
      "Epoch 2/10 Iteration: 8900 Avg. Training loss: 4.2265 0.1837 sec/batch\n",
      "Epoch 2/10 Iteration: 9000 Avg. Training loss: 4.2837 0.1865 sec/batch\n",
      "Nearest to other: describe, mean, landsmannschaft, craving, sittings, prevented, catalyzes, harmonica,\n",
      "Nearest to with: replacement, gradus, rigour, jah, bismuth, condominium, ascanian, suisse,\n",
      "Nearest to known: phan, stuka, homology, jonestown, blowfish, zealand, popularizer, passages,\n",
      "Nearest to history: inhabitants, external, sandman, thrones, augustinians, improvisational, noah, royalist,\n",
      "Nearest to its: transitioning, owed, tunguska, entrenched, reactor, communists, incinerated, relations,\n",
      "Nearest to from: coastal, unexplainable, aegis, bub, serbian, pathologies, frontage, castaways,\n",
      "Nearest to these: syncretism, romanov, aikido, hbox, sickness, minimum, ikea, divided,\n",
      "Nearest to time: dwarfs, aggressively, pequod, scripting, nemesis, rup, originating, compatibles,\n",
      "Nearest to additional: front, ranks, horizon, photonics, quick, mvd, saudis, unrepentant,\n",
      "Nearest to orthodox: church, brethren, apostolic, bn, orthodoxy, humanists, mass, halakha,\n",
      "Nearest to troops: armies, rebuilt, war, withdrawal, invaded, plekhanov, invade, repressive,\n",
      "Nearest to something: enterprising, dogmatism, raises, decided, acknowledged, typewriters, anachronisms, edie,\n",
      "Nearest to mean: grating, quenya, other, resistances, multiplying, inmate, scented, fact,\n",
      "Nearest to grand: chevy, straddles, nara, boyle, portrayal, hessen, oldham, hurling,\n",
      "Nearest to know: compactification, disintegrates, quartic, vara, anybody, quadratic, reviews, loud,\n",
      "Nearest to egypt: subcultural, koh, doubts, hostilities, conquered, maastricht, inseparable, rwanda,\n"
     ]
    },
    {
     "ename": "KeyboardInterrupt",
     "evalue": "",
     "output_type": "error",
     "traceback": [
      "\u001b[0;31m---------------------------------------------------------------------------\u001b[0m",
      "\u001b[0;31mKeyboardInterrupt\u001b[0m                         Traceback (most recent call last)",
      "\u001b[0;32m<ipython-input-17-6d252857543a>\u001b[0m in \u001b[0;36m<module>\u001b[0;34m\u001b[0m\n\u001b[1;32m     18\u001b[0m             feed = {inputs: x,\n\u001b[1;32m     19\u001b[0m                     labels: np.array(y)[:, None]}\n\u001b[0;32m---> 20\u001b[0;31m             \u001b[0mtrain_loss\u001b[0m\u001b[0;34m,\u001b[0m \u001b[0m_\u001b[0m \u001b[0;34m=\u001b[0m \u001b[0msess\u001b[0m\u001b[0;34m.\u001b[0m\u001b[0mrun\u001b[0m\u001b[0;34m(\u001b[0m\u001b[0;34m[\u001b[0m\u001b[0mcost\u001b[0m\u001b[0;34m,\u001b[0m \u001b[0moptimizer\u001b[0m\u001b[0;34m]\u001b[0m\u001b[0;34m,\u001b[0m \u001b[0mfeed_dict\u001b[0m\u001b[0;34m=\u001b[0m\u001b[0mfeed\u001b[0m\u001b[0;34m)\u001b[0m\u001b[0;34m\u001b[0m\u001b[0;34m\u001b[0m\u001b[0m\n\u001b[0m\u001b[1;32m     21\u001b[0m \u001b[0;34m\u001b[0m\u001b[0m\n\u001b[1;32m     22\u001b[0m             \u001b[0mloss\u001b[0m \u001b[0;34m+=\u001b[0m \u001b[0mtrain_loss\u001b[0m\u001b[0;34m\u001b[0m\u001b[0;34m\u001b[0m\u001b[0m\n",
      "\u001b[0;32m~/anaconda3/envs/dlnd/lib/python3.6/site-packages/tensorflow/python/client/session.py\u001b[0m in \u001b[0;36mrun\u001b[0;34m(self, fetches, feed_dict, options, run_metadata)\u001b[0m\n\u001b[1;32m    948\u001b[0m     \u001b[0;32mtry\u001b[0m\u001b[0;34m:\u001b[0m\u001b[0;34m\u001b[0m\u001b[0;34m\u001b[0m\u001b[0m\n\u001b[1;32m    949\u001b[0m       result = self._run(None, fetches, feed_dict, options_ptr,\n\u001b[0;32m--> 950\u001b[0;31m                          run_metadata_ptr)\n\u001b[0m\u001b[1;32m    951\u001b[0m       \u001b[0;32mif\u001b[0m \u001b[0mrun_metadata\u001b[0m\u001b[0;34m:\u001b[0m\u001b[0;34m\u001b[0m\u001b[0;34m\u001b[0m\u001b[0m\n\u001b[1;32m    952\u001b[0m         \u001b[0mproto_data\u001b[0m \u001b[0;34m=\u001b[0m \u001b[0mtf_session\u001b[0m\u001b[0;34m.\u001b[0m\u001b[0mTF_GetBuffer\u001b[0m\u001b[0;34m(\u001b[0m\u001b[0mrun_metadata_ptr\u001b[0m\u001b[0;34m)\u001b[0m\u001b[0;34m\u001b[0m\u001b[0;34m\u001b[0m\u001b[0m\n",
      "\u001b[0;32m~/anaconda3/envs/dlnd/lib/python3.6/site-packages/tensorflow/python/client/session.py\u001b[0m in \u001b[0;36m_run\u001b[0;34m(self, handle, fetches, feed_dict, options, run_metadata)\u001b[0m\n\u001b[1;32m   1171\u001b[0m     \u001b[0;32mif\u001b[0m \u001b[0mfinal_fetches\u001b[0m \u001b[0;32mor\u001b[0m \u001b[0mfinal_targets\u001b[0m \u001b[0;32mor\u001b[0m \u001b[0;34m(\u001b[0m\u001b[0mhandle\u001b[0m \u001b[0;32mand\u001b[0m \u001b[0mfeed_dict_tensor\u001b[0m\u001b[0;34m)\u001b[0m\u001b[0;34m:\u001b[0m\u001b[0;34m\u001b[0m\u001b[0;34m\u001b[0m\u001b[0m\n\u001b[1;32m   1172\u001b[0m       results = self._do_run(handle, final_targets, final_fetches,\n\u001b[0;32m-> 1173\u001b[0;31m                              feed_dict_tensor, options, run_metadata)\n\u001b[0m\u001b[1;32m   1174\u001b[0m     \u001b[0;32melse\u001b[0m\u001b[0;34m:\u001b[0m\u001b[0;34m\u001b[0m\u001b[0;34m\u001b[0m\u001b[0m\n\u001b[1;32m   1175\u001b[0m       \u001b[0mresults\u001b[0m \u001b[0;34m=\u001b[0m \u001b[0;34m[\u001b[0m\u001b[0;34m]\u001b[0m\u001b[0;34m\u001b[0m\u001b[0;34m\u001b[0m\u001b[0m\n",
      "\u001b[0;32m~/anaconda3/envs/dlnd/lib/python3.6/site-packages/tensorflow/python/client/session.py\u001b[0m in \u001b[0;36m_do_run\u001b[0;34m(self, handle, target_list, fetch_list, feed_dict, options, run_metadata)\u001b[0m\n\u001b[1;32m   1348\u001b[0m     \u001b[0;32mif\u001b[0m \u001b[0mhandle\u001b[0m \u001b[0;32mis\u001b[0m \u001b[0;32mNone\u001b[0m\u001b[0;34m:\u001b[0m\u001b[0;34m\u001b[0m\u001b[0;34m\u001b[0m\u001b[0m\n\u001b[1;32m   1349\u001b[0m       return self._do_call(_run_fn, feeds, fetches, targets, options,\n\u001b[0;32m-> 1350\u001b[0;31m                            run_metadata)\n\u001b[0m\u001b[1;32m   1351\u001b[0m     \u001b[0;32melse\u001b[0m\u001b[0;34m:\u001b[0m\u001b[0;34m\u001b[0m\u001b[0;34m\u001b[0m\u001b[0m\n\u001b[1;32m   1352\u001b[0m       \u001b[0;32mreturn\u001b[0m \u001b[0mself\u001b[0m\u001b[0;34m.\u001b[0m\u001b[0m_do_call\u001b[0m\u001b[0;34m(\u001b[0m\u001b[0m_prun_fn\u001b[0m\u001b[0;34m,\u001b[0m \u001b[0mhandle\u001b[0m\u001b[0;34m,\u001b[0m \u001b[0mfeeds\u001b[0m\u001b[0;34m,\u001b[0m \u001b[0mfetches\u001b[0m\u001b[0;34m)\u001b[0m\u001b[0;34m\u001b[0m\u001b[0;34m\u001b[0m\u001b[0m\n",
      "\u001b[0;32m~/anaconda3/envs/dlnd/lib/python3.6/site-packages/tensorflow/python/client/session.py\u001b[0m in \u001b[0;36m_do_call\u001b[0;34m(self, fn, *args)\u001b[0m\n\u001b[1;32m   1354\u001b[0m   \u001b[0;32mdef\u001b[0m \u001b[0m_do_call\u001b[0m\u001b[0;34m(\u001b[0m\u001b[0mself\u001b[0m\u001b[0;34m,\u001b[0m \u001b[0mfn\u001b[0m\u001b[0;34m,\u001b[0m \u001b[0;34m*\u001b[0m\u001b[0margs\u001b[0m\u001b[0;34m)\u001b[0m\u001b[0;34m:\u001b[0m\u001b[0;34m\u001b[0m\u001b[0;34m\u001b[0m\u001b[0m\n\u001b[1;32m   1355\u001b[0m     \u001b[0;32mtry\u001b[0m\u001b[0;34m:\u001b[0m\u001b[0;34m\u001b[0m\u001b[0;34m\u001b[0m\u001b[0m\n\u001b[0;32m-> 1356\u001b[0;31m       \u001b[0;32mreturn\u001b[0m \u001b[0mfn\u001b[0m\u001b[0;34m(\u001b[0m\u001b[0;34m*\u001b[0m\u001b[0margs\u001b[0m\u001b[0;34m)\u001b[0m\u001b[0;34m\u001b[0m\u001b[0;34m\u001b[0m\u001b[0m\n\u001b[0m\u001b[1;32m   1357\u001b[0m     \u001b[0;32mexcept\u001b[0m \u001b[0merrors\u001b[0m\u001b[0;34m.\u001b[0m\u001b[0mOpError\u001b[0m \u001b[0;32mas\u001b[0m \u001b[0me\u001b[0m\u001b[0;34m:\u001b[0m\u001b[0;34m\u001b[0m\u001b[0;34m\u001b[0m\u001b[0m\n\u001b[1;32m   1358\u001b[0m       \u001b[0mmessage\u001b[0m \u001b[0;34m=\u001b[0m \u001b[0mcompat\u001b[0m\u001b[0;34m.\u001b[0m\u001b[0mas_text\u001b[0m\u001b[0;34m(\u001b[0m\u001b[0me\u001b[0m\u001b[0;34m.\u001b[0m\u001b[0mmessage\u001b[0m\u001b[0;34m)\u001b[0m\u001b[0;34m\u001b[0m\u001b[0;34m\u001b[0m\u001b[0m\n",
      "\u001b[0;32m~/anaconda3/envs/dlnd/lib/python3.6/site-packages/tensorflow/python/client/session.py\u001b[0m in \u001b[0;36m_run_fn\u001b[0;34m(feed_dict, fetch_list, target_list, options, run_metadata)\u001b[0m\n\u001b[1;32m   1339\u001b[0m       \u001b[0mself\u001b[0m\u001b[0;34m.\u001b[0m\u001b[0m_extend_graph\u001b[0m\u001b[0;34m(\u001b[0m\u001b[0;34m)\u001b[0m\u001b[0;34m\u001b[0m\u001b[0;34m\u001b[0m\u001b[0m\n\u001b[1;32m   1340\u001b[0m       return self._call_tf_sessionrun(\n\u001b[0;32m-> 1341\u001b[0;31m           options, feed_dict, fetch_list, target_list, run_metadata)\n\u001b[0m\u001b[1;32m   1342\u001b[0m \u001b[0;34m\u001b[0m\u001b[0m\n\u001b[1;32m   1343\u001b[0m     \u001b[0;32mdef\u001b[0m \u001b[0m_prun_fn\u001b[0m\u001b[0;34m(\u001b[0m\u001b[0mhandle\u001b[0m\u001b[0;34m,\u001b[0m \u001b[0mfeed_dict\u001b[0m\u001b[0;34m,\u001b[0m \u001b[0mfetch_list\u001b[0m\u001b[0;34m)\u001b[0m\u001b[0;34m:\u001b[0m\u001b[0;34m\u001b[0m\u001b[0;34m\u001b[0m\u001b[0m\n",
      "\u001b[0;32m~/anaconda3/envs/dlnd/lib/python3.6/site-packages/tensorflow/python/client/session.py\u001b[0m in \u001b[0;36m_call_tf_sessionrun\u001b[0;34m(self, options, feed_dict, fetch_list, target_list, run_metadata)\u001b[0m\n\u001b[1;32m   1427\u001b[0m     return tf_session.TF_SessionRun_wrapper(\n\u001b[1;32m   1428\u001b[0m         \u001b[0mself\u001b[0m\u001b[0;34m.\u001b[0m\u001b[0m_session\u001b[0m\u001b[0;34m,\u001b[0m \u001b[0moptions\u001b[0m\u001b[0;34m,\u001b[0m \u001b[0mfeed_dict\u001b[0m\u001b[0;34m,\u001b[0m \u001b[0mfetch_list\u001b[0m\u001b[0;34m,\u001b[0m \u001b[0mtarget_list\u001b[0m\u001b[0;34m,\u001b[0m\u001b[0;34m\u001b[0m\u001b[0;34m\u001b[0m\u001b[0m\n\u001b[0;32m-> 1429\u001b[0;31m         run_metadata)\n\u001b[0m\u001b[1;32m   1430\u001b[0m \u001b[0;34m\u001b[0m\u001b[0m\n\u001b[1;32m   1431\u001b[0m   \u001b[0;32mdef\u001b[0m \u001b[0m_call_tf_sessionprun\u001b[0m\u001b[0;34m(\u001b[0m\u001b[0mself\u001b[0m\u001b[0;34m,\u001b[0m \u001b[0mhandle\u001b[0m\u001b[0;34m,\u001b[0m \u001b[0mfeed_dict\u001b[0m\u001b[0;34m,\u001b[0m \u001b[0mfetch_list\u001b[0m\u001b[0;34m)\u001b[0m\u001b[0;34m:\u001b[0m\u001b[0;34m\u001b[0m\u001b[0;34m\u001b[0m\u001b[0m\n",
      "\u001b[0;31mKeyboardInterrupt\u001b[0m: "
     ]
    }
   ],
   "source": [
    "epochs = 10\n",
    "batch_size = 1000\n",
    "window_size = 10\n",
    "\n",
    "with train_graph.as_default():\n",
    "    saver = tf.train.Saver()\n",
    "\n",
    "with tf.Session(graph=train_graph) as sess:\n",
    "    iteration = 1\n",
    "    loss = 0\n",
    "    sess.run(tf.global_variables_initializer())\n",
    "\n",
    "    for e in range(1, epochs+1):\n",
    "        batches = get_batches(train_words, batch_size, window_size)\n",
    "        start = time.time()\n",
    "        for x, y in batches:\n",
    "            \n",
    "            feed = {inputs: x,\n",
    "                    labels: np.array(y)[:, None]}\n",
    "            train_loss, _ = sess.run([cost, optimizer], feed_dict=feed)\n",
    "            \n",
    "            loss += train_loss\n",
    "            \n",
    "            if iteration % 100 == 0: \n",
    "                end = time.time()\n",
    "                print(\"Epoch {}/{}\".format(e, epochs),\n",
    "                      \"Iteration: {}\".format(iteration),\n",
    "                      \"Avg. Training loss: {:.4f}\".format(loss/100),\n",
    "                      \"{:.4f} sec/batch\".format((end-start)/100))\n",
    "                loss = 0\n",
    "                start = time.time()\n",
    "            \n",
    "            if iteration % 1000 == 0:\n",
    "                ## From Thushan Ganegedara's implementation\n",
    "                # note that this is expensive (~20% slowdown if computed every 500 steps)\n",
    "                sim = similarity.eval()\n",
    "                for i in range(valid_size):\n",
    "                    valid_word = int_to_vocab[valid_examples[i]]\n",
    "                    top_k = 8 # number of nearest neighbors\n",
    "                    nearest = (-sim[i, :]).argsort()[1:top_k+1]\n",
    "                    log = 'Nearest to %s:' % valid_word\n",
    "                    for k in range(top_k):\n",
    "                        close_word = int_to_vocab[nearest[k]]\n",
    "                        log = '%s %s,' % (log, close_word)\n",
    "                    print(log)\n",
    "            \n",
    "            iteration += 1\n",
    "    save_path = saver.save(sess, \"checkpoints/text8.ckpt\")\n",
    "    embed_mat = sess.run(normalized_embedding)"
   ]
  },
  {
   "cell_type": "markdown",
   "metadata": {},
   "source": [
    "Restore the trained network if you need to:"
   ]
  },
  {
   "cell_type": "code",
   "execution_count": 18,
   "metadata": {},
   "outputs": [
    {
     "ename": "ValueError",
     "evalue": "Can't load save_path when it is None.",
     "output_type": "error",
     "traceback": [
      "\u001b[0;31m---------------------------------------------------------------------------\u001b[0m",
      "\u001b[0;31mValueError\u001b[0m                                Traceback (most recent call last)",
      "\u001b[0;32m<ipython-input-18-0dcc3806116a>\u001b[0m in \u001b[0;36m<module>\u001b[0;34m\u001b[0m\n\u001b[1;32m      3\u001b[0m \u001b[0;34m\u001b[0m\u001b[0m\n\u001b[1;32m      4\u001b[0m \u001b[0;32mwith\u001b[0m \u001b[0mtf\u001b[0m\u001b[0;34m.\u001b[0m\u001b[0mSession\u001b[0m\u001b[0;34m(\u001b[0m\u001b[0mgraph\u001b[0m\u001b[0;34m=\u001b[0m\u001b[0mtrain_graph\u001b[0m\u001b[0;34m)\u001b[0m \u001b[0;32mas\u001b[0m \u001b[0msess\u001b[0m\u001b[0;34m:\u001b[0m\u001b[0;34m\u001b[0m\u001b[0;34m\u001b[0m\u001b[0m\n\u001b[0;32m----> 5\u001b[0;31m     \u001b[0msaver\u001b[0m\u001b[0;34m.\u001b[0m\u001b[0mrestore\u001b[0m\u001b[0;34m(\u001b[0m\u001b[0msess\u001b[0m\u001b[0;34m,\u001b[0m \u001b[0mtf\u001b[0m\u001b[0;34m.\u001b[0m\u001b[0mtrain\u001b[0m\u001b[0;34m.\u001b[0m\u001b[0mlatest_checkpoint\u001b[0m\u001b[0;34m(\u001b[0m\u001b[0;34m'checkpoints'\u001b[0m\u001b[0;34m)\u001b[0m\u001b[0;34m)\u001b[0m\u001b[0;34m\u001b[0m\u001b[0;34m\u001b[0m\u001b[0m\n\u001b[0m\u001b[1;32m      6\u001b[0m     \u001b[0membed_mat\u001b[0m \u001b[0;34m=\u001b[0m \u001b[0msess\u001b[0m\u001b[0;34m.\u001b[0m\u001b[0mrun\u001b[0m\u001b[0;34m(\u001b[0m\u001b[0membedding\u001b[0m\u001b[0;34m)\u001b[0m\u001b[0;34m\u001b[0m\u001b[0;34m\u001b[0m\u001b[0m\n",
      "\u001b[0;32m~/anaconda3/envs/dlnd/lib/python3.6/site-packages/tensorflow/python/training/saver.py\u001b[0m in \u001b[0;36mrestore\u001b[0;34m(self, sess, save_path)\u001b[0m\n\u001b[1;32m   1272\u001b[0m       \u001b[0;32mreturn\u001b[0m\u001b[0;34m\u001b[0m\u001b[0;34m\u001b[0m\u001b[0m\n\u001b[1;32m   1273\u001b[0m     \u001b[0;32mif\u001b[0m \u001b[0msave_path\u001b[0m \u001b[0;32mis\u001b[0m \u001b[0;32mNone\u001b[0m\u001b[0;34m:\u001b[0m\u001b[0;34m\u001b[0m\u001b[0;34m\u001b[0m\u001b[0m\n\u001b[0;32m-> 1274\u001b[0;31m       \u001b[0;32mraise\u001b[0m \u001b[0mValueError\u001b[0m\u001b[0;34m(\u001b[0m\u001b[0;34m\"Can't load save_path when it is None.\"\u001b[0m\u001b[0;34m)\u001b[0m\u001b[0;34m\u001b[0m\u001b[0;34m\u001b[0m\u001b[0m\n\u001b[0m\u001b[1;32m   1275\u001b[0m \u001b[0;34m\u001b[0m\u001b[0m\n\u001b[1;32m   1276\u001b[0m     \u001b[0;32mif\u001b[0m \u001b[0;32mnot\u001b[0m \u001b[0mcheckpoint_management\u001b[0m\u001b[0;34m.\u001b[0m\u001b[0mcheckpoint_exists\u001b[0m\u001b[0;34m(\u001b[0m\u001b[0mcompat\u001b[0m\u001b[0;34m.\u001b[0m\u001b[0mas_text\u001b[0m\u001b[0;34m(\u001b[0m\u001b[0msave_path\u001b[0m\u001b[0;34m)\u001b[0m\u001b[0;34m)\u001b[0m\u001b[0;34m:\u001b[0m\u001b[0;34m\u001b[0m\u001b[0;34m\u001b[0m\u001b[0m\n",
      "\u001b[0;31mValueError\u001b[0m: Can't load save_path when it is None."
     ]
    }
   ],
   "source": [
    "with train_graph.as_default():\n",
    "    saver = tf.train.Saver()\n",
    "\n",
    "with tf.Session(graph=train_graph) as sess:\n",
    "    saver.restore(sess, tf.train.latest_checkpoint('checkpoints'))\n",
    "    embed_mat = sess.run(embedding)"
   ]
  },
  {
   "cell_type": "markdown",
   "metadata": {},
   "source": [
    "## Visualizing the word vectors\n",
    "\n",
    "Below we'll use T-SNE to visualize how our high-dimensional word vectors cluster together. T-SNE is used to project these vectors into two dimensions while preserving local stucture. Check out [this post from Christopher Olah](http://colah.github.io/posts/2014-10-Visualizing-MNIST/) to learn more about T-SNE and other ways to visualize high-dimensional data."
   ]
  },
  {
   "cell_type": "code",
   "execution_count": 19,
   "metadata": {},
   "outputs": [],
   "source": [
    "%matplotlib inline\n",
    "%config InlineBackend.figure_format = 'retina'\n",
    "\n",
    "import matplotlib.pyplot as plt\n",
    "from sklearn.manifold import TSNE"
   ]
  },
  {
   "cell_type": "code",
   "execution_count": 20,
   "metadata": {},
   "outputs": [
    {
     "ename": "NameError",
     "evalue": "name 'embed_mat' is not defined",
     "output_type": "error",
     "traceback": [
      "\u001b[0;31m---------------------------------------------------------------------------\u001b[0m",
      "\u001b[0;31mNameError\u001b[0m                                 Traceback (most recent call last)",
      "\u001b[0;32m<ipython-input-20-16d6594571c2>\u001b[0m in \u001b[0;36m<module>\u001b[0;34m\u001b[0m\n\u001b[1;32m      1\u001b[0m \u001b[0mviz_words\u001b[0m \u001b[0;34m=\u001b[0m \u001b[0;36m500\u001b[0m\u001b[0;34m\u001b[0m\u001b[0;34m\u001b[0m\u001b[0m\n\u001b[1;32m      2\u001b[0m \u001b[0mtsne\u001b[0m \u001b[0;34m=\u001b[0m \u001b[0mTSNE\u001b[0m\u001b[0;34m(\u001b[0m\u001b[0;34m)\u001b[0m\u001b[0;34m\u001b[0m\u001b[0;34m\u001b[0m\u001b[0m\n\u001b[0;32m----> 3\u001b[0;31m \u001b[0membed_tsne\u001b[0m \u001b[0;34m=\u001b[0m \u001b[0mtsne\u001b[0m\u001b[0;34m.\u001b[0m\u001b[0mfit_transform\u001b[0m\u001b[0;34m(\u001b[0m\u001b[0membed_mat\u001b[0m\u001b[0;34m[\u001b[0m\u001b[0;34m:\u001b[0m\u001b[0mviz_words\u001b[0m\u001b[0;34m,\u001b[0m \u001b[0;34m:\u001b[0m\u001b[0;34m]\u001b[0m\u001b[0;34m)\u001b[0m\u001b[0;34m\u001b[0m\u001b[0;34m\u001b[0m\u001b[0m\n\u001b[0m",
      "\u001b[0;31mNameError\u001b[0m: name 'embed_mat' is not defined"
     ]
    }
   ],
   "source": [
    "viz_words = 500\n",
    "tsne = TSNE()\n",
    "embed_tsne = tsne.fit_transform(embed_mat[:viz_words, :])"
   ]
  },
  {
   "cell_type": "code",
   "execution_count": 21,
   "metadata": {},
   "outputs": [
    {
     "ename": "NameError",
     "evalue": "name 'embed_tsne' is not defined",
     "output_type": "error",
     "traceback": [
      "\u001b[0;31m---------------------------------------------------------------------------\u001b[0m",
      "\u001b[0;31mNameError\u001b[0m                                 Traceback (most recent call last)",
      "\u001b[0;32m<ipython-input-21-0c98ebed17c9>\u001b[0m in \u001b[0;36m<module>\u001b[0;34m\u001b[0m\n\u001b[1;32m      1\u001b[0m \u001b[0mfig\u001b[0m\u001b[0;34m,\u001b[0m \u001b[0max\u001b[0m \u001b[0;34m=\u001b[0m \u001b[0mplt\u001b[0m\u001b[0;34m.\u001b[0m\u001b[0msubplots\u001b[0m\u001b[0;34m(\u001b[0m\u001b[0mfigsize\u001b[0m\u001b[0;34m=\u001b[0m\u001b[0;34m(\u001b[0m\u001b[0;36m14\u001b[0m\u001b[0;34m,\u001b[0m \u001b[0;36m14\u001b[0m\u001b[0;34m)\u001b[0m\u001b[0;34m)\u001b[0m\u001b[0;34m\u001b[0m\u001b[0;34m\u001b[0m\u001b[0m\n\u001b[1;32m      2\u001b[0m \u001b[0;32mfor\u001b[0m \u001b[0midx\u001b[0m \u001b[0;32min\u001b[0m \u001b[0mrange\u001b[0m\u001b[0;34m(\u001b[0m\u001b[0mviz_words\u001b[0m\u001b[0;34m)\u001b[0m\u001b[0;34m:\u001b[0m\u001b[0;34m\u001b[0m\u001b[0;34m\u001b[0m\u001b[0m\n\u001b[0;32m----> 3\u001b[0;31m     \u001b[0mplt\u001b[0m\u001b[0;34m.\u001b[0m\u001b[0mscatter\u001b[0m\u001b[0;34m(\u001b[0m\u001b[0;34m*\u001b[0m\u001b[0membed_tsne\u001b[0m\u001b[0;34m[\u001b[0m\u001b[0midx\u001b[0m\u001b[0;34m,\u001b[0m \u001b[0;34m:\u001b[0m\u001b[0;34m]\u001b[0m\u001b[0;34m,\u001b[0m \u001b[0mcolor\u001b[0m\u001b[0;34m=\u001b[0m\u001b[0;34m'steelblue'\u001b[0m\u001b[0;34m)\u001b[0m\u001b[0;34m\u001b[0m\u001b[0;34m\u001b[0m\u001b[0m\n\u001b[0m\u001b[1;32m      4\u001b[0m     \u001b[0mplt\u001b[0m\u001b[0;34m.\u001b[0m\u001b[0mannotate\u001b[0m\u001b[0;34m(\u001b[0m\u001b[0mint_to_vocab\u001b[0m\u001b[0;34m[\u001b[0m\u001b[0midx\u001b[0m\u001b[0;34m]\u001b[0m\u001b[0;34m,\u001b[0m \u001b[0;34m(\u001b[0m\u001b[0membed_tsne\u001b[0m\u001b[0;34m[\u001b[0m\u001b[0midx\u001b[0m\u001b[0;34m,\u001b[0m \u001b[0;36m0\u001b[0m\u001b[0;34m]\u001b[0m\u001b[0;34m,\u001b[0m \u001b[0membed_tsne\u001b[0m\u001b[0;34m[\u001b[0m\u001b[0midx\u001b[0m\u001b[0;34m,\u001b[0m \u001b[0;36m1\u001b[0m\u001b[0;34m]\u001b[0m\u001b[0;34m)\u001b[0m\u001b[0;34m,\u001b[0m \u001b[0malpha\u001b[0m\u001b[0;34m=\u001b[0m\u001b[0;36m0.7\u001b[0m\u001b[0;34m)\u001b[0m\u001b[0;34m\u001b[0m\u001b[0;34m\u001b[0m\u001b[0m\n",
      "\u001b[0;31mNameError\u001b[0m: name 'embed_tsne' is not defined"
     ]
    },
    {
     "data": {
      "image/png": "[encoded data removed]",
      "text/plain": [
       "<Figure size 1008x1008 with 1 Axes>"
      ]
     },
     "metadata": {
      "image/png": {
       "height": 795,
       "width": 826
      },
      "needs_background": "light"
     },
     "output_type": "display_data"
    }
   ],
   "source": [
    "fig, ax = plt.subplots(figsize=(14, 14))\n",
    "for idx in range(viz_words):\n",
    "    plt.scatter(*embed_tsne[idx, :], color='steelblue')\n",
    "    plt.annotate(int_to_vocab[idx], (embed_tsne[idx, 0], embed_tsne[idx, 1]), alpha=0.7)"
   ]
  }
 ],
 "metadata": {
  "kernelspec": {
   "display_name": "Python 3",
   "language": "python",
   "name": "python3"
  },
  "language_info": {
   "codemirror_mode": {
    "name": "ipython",
    "version": 3
   },
   "file_extension": ".py",
   "mimetype": "text/x-python",
   "name": "python",
   "nbconvert_exporter": "python",
   "pygments_lexer": "ipython3",
   "version": "3.6.8"
  }
 },
 "nbformat": 4,
 "nbformat_minor": 2
}
